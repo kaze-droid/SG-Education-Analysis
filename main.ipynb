{
 "cells": [
  {
   "cell_type": "code",
   "execution_count": 45,
   "metadata": {},
   "outputs": [],
   "source": [
    "import numpy as np\n",
    "import matplotlib.pyplot as plt"
   ]
  },
  {
   "cell_type": "code",
   "execution_count": 38,
   "metadata": {},
   "outputs": [],
   "source": [
    "employ = np.genfromtxt('datasets_cleaned/employment/employ.csv', delimiter=',', dtype=['i8','U64','f8','f8','i8'], names=True)\n",
    "poly = np.genfromtxt('datasets_cleaned/poly/poly_intake.csv', delimiter=',', dtype=['i8','U8','U64','i8','i8','i8'], names=True)\n",
    "uni = np.genfromtxt('datasets_cleaned/uni/uni_intake.csv', delimiter=',', dtype=['i8','U8','U64','i8','i8','i8'], names=True)"
   ]
  },
  {
   "cell_type": "code",
   "execution_count": 44,
   "metadata": {},
   "outputs": [
    {
     "name": "stdout",
     "output_type": "stream",
     "text": [
      "['Business' 'Business' 'Architecture and Built Environment'\n",
      " 'Architecture and Built Environment' 'Dentistry' 'Dentistry' 'Education'\n",
      " 'Education' 'Engineering' 'Engineering'\n",
      " 'Arts` Humanities and the Social Sciences'\n",
      " 'Arts` Humanities and the Social Sciences' 'Health Sciences'\n",
      " 'Health Sciences' 'Information & Digital Technologies'\n",
      " 'Information & Digital Technologies' 'Law' 'Law' 'Medicine' 'Medicine'\n",
      " 'Sciences' 'Sciences' 'Business' 'Business'\n",
      " 'Architecture and Built Environment' 'Architecture and Built Environment'\n",
      " 'Dentistry' 'Dentistry' 'Education' 'Education' 'Engineering'\n",
      " 'Engineering' 'Arts` Humanities and the Social Sciences'\n",
      " 'Arts` Humanities and the Social Sciences' 'Health Sciences'\n",
      " 'Health Sciences' 'Information & Digital Technologies'\n",
      " 'Information & Digital Technologies' 'Law' 'Law' 'Medicine' 'Medicine'\n",
      " 'Sciences' 'Sciences' 'Business' 'Business'\n",
      " 'Architecture and Built Environment' 'Architecture and Built Environment'\n",
      " 'Dentistry' 'Dentistry' 'Education' 'Education' 'Engineering'\n",
      " 'Engineering' 'Arts` Humanities and the Social Sciences'\n",
      " 'Arts` Humanities and the Social Sciences' 'Health Sciences'\n",
      " 'Health Sciences' 'Information & Digital Technologies'\n",
      " 'Information & Digital Technologies' 'Law' 'Law' 'Medicine' 'Medicine'\n",
      " 'Sciences' 'Sciences' 'Business' 'Business'\n",
      " 'Architecture and Built Environment' 'Architecture and Built Environment'\n",
      " 'Dentistry' 'Dentistry' 'Education' 'Education' 'Engineering'\n",
      " 'Engineering' 'Arts` Humanities and the Social Sciences'\n",
      " 'Arts` Humanities and the Social Sciences' 'Health Sciences'\n",
      " 'Health Sciences' 'Information & Digital Technologies'\n",
      " 'Information & Digital Technologies' 'Law' 'Law' 'Medicine' 'Medicine'\n",
      " 'Sciences' 'Sciences' 'Business' 'Business'\n",
      " 'Architecture and Built Environment' 'Architecture and Built Environment'\n",
      " 'Dentistry' 'Dentistry' 'Education' 'Education' 'Engineering'\n",
      " 'Engineering' 'Arts` Humanities and the Social Sciences'\n",
      " 'Arts` Humanities and the Social Sciences' 'Health Sciences'\n",
      " 'Health Sciences' 'Information & Digital Technologies'\n",
      " 'Information & Digital Technologies' 'Law' 'Law' 'Medicine' 'Medicine'\n",
      " 'Sciences' 'Sciences' 'Business' 'Business'\n",
      " 'Architecture and Built Environment' 'Architecture and Built Environment'\n",
      " 'Dentistry' 'Dentistry' 'Education' 'Education' 'Engineering'\n",
      " 'Engineering' 'Arts` Humanities and the Social Sciences'\n",
      " 'Arts` Humanities and the Social Sciences' 'Health Sciences'\n",
      " 'Health Sciences' 'Information & Digital Technologies'\n",
      " 'Information & Digital Technologies' 'Law' 'Law' 'Medicine' 'Medicine'\n",
      " 'Sciences' 'Sciences' 'Business' 'Business'\n",
      " 'Architecture and Built Environment' 'Architecture and Built Environment'\n",
      " 'Dentistry' 'Dentistry' 'Education' 'Education' 'Engineering'\n",
      " 'Engineering' 'Arts` Humanities and the Social Sciences'\n",
      " 'Arts` Humanities and the Social Sciences' 'Health Sciences'\n",
      " 'Health Sciences' 'Information & Digital Technologies'\n",
      " 'Information & Digital Technologies' 'Law' 'Law' 'Medicine' 'Medicine'\n",
      " 'Sciences' 'Sciences' 'Business' 'Business'\n",
      " 'Architecture and Built Environment' 'Architecture and Built Environment'\n",
      " 'Dentistry' 'Dentistry' 'Education' 'Education' 'Engineering'\n",
      " 'Engineering' 'Arts` Humanities and the Social Sciences'\n",
      " 'Arts` Humanities and the Social Sciences' 'Health Sciences'\n",
      " 'Health Sciences' 'Information & Digital Technologies'\n",
      " 'Information & Digital Technologies' 'Law' 'Law' 'Medicine' 'Medicine'\n",
      " 'Sciences' 'Sciences' 'Business' 'Business'\n",
      " 'Architecture and Built Environment' 'Architecture and Built Environment'\n",
      " 'Dentistry' 'Dentistry' 'Education' 'Education' 'Engineering'\n",
      " 'Engineering' 'Arts` Humanities and the Social Sciences'\n",
      " 'Arts` Humanities and the Social Sciences' 'Health Sciences'\n",
      " 'Health Sciences' 'Information & Digital Technologies'\n",
      " 'Information & Digital Technologies' 'Law' 'Law' 'Medicine' 'Medicine'\n",
      " 'Sciences' 'Sciences' 'Business' 'Business'\n",
      " 'Architecture and Built Environment' 'Architecture and Built Environment'\n",
      " 'Dentistry' 'Dentistry' 'Education' 'Education' 'Engineering'\n",
      " 'Engineering' 'Arts` Humanities and the Social Sciences'\n",
      " 'Arts` Humanities and the Social Sciences' 'Health Sciences'\n",
      " 'Health Sciences' 'Information & Digital Technologies'\n",
      " 'Information & Digital Technologies' 'Law' 'Law' 'Medicine' 'Medicine'\n",
      " 'Sciences' 'Sciences' 'Business' 'Business'\n",
      " 'Architecture and Built Environment' 'Architecture and Built Environment'\n",
      " 'Dentistry' 'Dentistry' 'Education' 'Education' 'Engineering'\n",
      " 'Engineering' 'Arts` Humanities and the Social Sciences'\n",
      " 'Arts` Humanities and the Social Sciences' 'Health Sciences'\n",
      " 'Health Sciences' 'Information & Digital Technologies'\n",
      " 'Information & Digital Technologies' 'Law' 'Law' 'Medicine' 'Medicine'\n",
      " 'Sciences' 'Sciences' 'Business' 'Business'\n",
      " 'Architecture and Built Environment' 'Architecture and Built Environment'\n",
      " 'Dentistry' 'Dentistry' 'Education' 'Education' 'Engineering'\n",
      " 'Engineering' 'Arts` Humanities and the Social Sciences'\n",
      " 'Arts` Humanities and the Social Sciences' 'Health Sciences'\n",
      " 'Health Sciences' 'Information & Digital Technologies'\n",
      " 'Information & Digital Technologies' 'Law' 'Law' 'Medicine' 'Medicine'\n",
      " 'Sciences' 'Sciences' 'Business' 'Business'\n",
      " 'Architecture and Built Environment' 'Architecture and Built Environment'\n",
      " 'Dentistry' 'Dentistry' 'Education' 'Education' 'Engineering'\n",
      " 'Engineering' 'Arts` Humanities and the Social Sciences'\n",
      " 'Arts` Humanities and the Social Sciences' 'Health Sciences'\n",
      " 'Health Sciences' 'Information & Digital Technologies'\n",
      " 'Information & Digital Technologies' 'Law' 'Law' 'Medicine' 'Medicine'\n",
      " 'Sciences' 'Sciences' 'Business' 'Business'\n",
      " 'Architecture and Built Environment' 'Architecture and Built Environment'\n",
      " 'Dentistry' 'Dentistry' 'Education' 'Education' 'Engineering'\n",
      " 'Engineering' 'Arts` Humanities and the Social Sciences'\n",
      " 'Arts` Humanities and the Social Sciences' 'Health Sciences'\n",
      " 'Health Sciences' 'Information & Digital Technologies'\n",
      " 'Information & Digital Technologies' 'Law' 'Law' 'Medicine' 'Medicine'\n",
      " 'Sciences' 'Sciences' 'Business' 'Business'\n",
      " 'Architecture and Built Environment' 'Architecture and Built Environment'\n",
      " 'Dentistry' 'Dentistry' 'Education' 'Education' 'Engineering'\n",
      " 'Engineering' 'Arts` Humanities and the Social Sciences'\n",
      " 'Arts` Humanities and the Social Sciences' 'Health Sciences'\n",
      " 'Health Sciences' 'Information & Digital Technologies'\n",
      " 'Information & Digital Technologies' 'Law' 'Law' 'Medicine' 'Medicine'\n",
      " 'Sciences' 'Sciences' 'Business' 'Business'\n",
      " 'Architecture and Built Environment' 'Architecture and Built Environment'\n",
      " 'Dentistry' 'Dentistry' 'Education' 'Education' 'Engineering'\n",
      " 'Engineering' 'Arts` Humanities and the Social Sciences'\n",
      " 'Arts` Humanities and the Social Sciences' 'Health Sciences'\n",
      " 'Health Sciences' 'Information & Digital Technologies'\n",
      " 'Information & Digital Technologies' 'Law' 'Law' 'Medicine' 'Medicine'\n",
      " 'Sciences' 'Sciences']\n"
     ]
    }
   ],
   "source": [
    "# Matplotlib magic"
   ]
  },
  {
   "cell_type": "code",
   "execution_count": null,
   "metadata": {},
   "outputs": [],
   "source": []
  }
 ],
 "metadata": {
  "kernelspec": {
   "display_name": "Python 3.10.3 64-bit",
   "language": "python",
   "name": "python3"
  },
  "language_info": {
   "codemirror_mode": {
    "name": "ipython",
    "version": 3
   },
   "file_extension": ".py",
   "mimetype": "text/x-python",
   "name": "python",
   "nbconvert_exporter": "python",
   "pygments_lexer": "ipython3",
   "version": "3.10.3"
  },
  "orig_nbformat": 4,
  "vscode": {
   "interpreter": {
    "hash": "7b40f880619167c1897eb19ed28404e44ef5681baa2b94c6a6ce5dad7d6c8be5"
   }
  }
 },
 "nbformat": 4,
 "nbformat_minor": 2
}
